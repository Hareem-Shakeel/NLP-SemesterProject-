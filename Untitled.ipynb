{
 "cells": [
  {
   "cell_type": "code",
   "execution_count": 1,
   "id": "c424f499",
   "metadata": {},
   "outputs": [],
   "source": [
    "import pandas as pd\n",
    "movies=pd.read_csv('dataset.csv')"
   ]
  },
  {
   "cell_type": "code",
   "execution_count": 11,
   "id": "7d4c2c54",
   "metadata": {},
   "outputs": [],
   "source": [
    "import pandas as pd\n",
    "\n",
    "def separate_and_save_column(csv_file, column_index, output_file):\n",
    "    # Read the CSV file\n",
    "    df = pd.read_csv(csv_file)\n",
    "\n",
    "    # Extract the column\n",
    "    column_to_save = df.iloc[:, column_index]\n",
    "\n",
    "    # Save the extracted column to a new file\n",
    "    column_to_save.to_csv(output_file, index=False)\n",
    "\n",
    "# Example usage:\n",
    "csv_file_path = 'dataset.csv'\n",
    "column_index_to_extract = 1  # Replace with the index of the column you want to extract\n",
    "output_file_path = 'extracted_column.csv'\n",
    "separate_and_save_column(csv_file_path, column_index_to_extract, output_file_path)\n"
   ]
  },
  {
   "cell_type": "code",
   "execution_count": 12,
   "id": "73e2ec5c",
   "metadata": {},
   "outputs": [
    {
     "data": {
      "text/html": [
       "<div>\n",
       "<style scoped>\n",
       "    .dataframe tbody tr th:only-of-type {\n",
       "        vertical-align: middle;\n",
       "    }\n",
       "\n",
       "    .dataframe tbody tr th {\n",
       "        vertical-align: top;\n",
       "    }\n",
       "\n",
       "    .dataframe thead th {\n",
       "        text-align: right;\n",
       "    }\n",
       "</style>\n",
       "<table border=\"1\" class=\"dataframe\">\n",
       "  <thead>\n",
       "    <tr style=\"text-align: right;\">\n",
       "      <th></th>\n",
       "      <th>title</th>\n",
       "    </tr>\n",
       "  </thead>\n",
       "  <tbody>\n",
       "    <tr>\n",
       "      <th>0</th>\n",
       "      <td>The Shawshank Redemption</td>\n",
       "    </tr>\n",
       "    <tr>\n",
       "      <th>1</th>\n",
       "      <td>Dilwale Dulhania Le Jayenge</td>\n",
       "    </tr>\n",
       "    <tr>\n",
       "      <th>2</th>\n",
       "      <td>The Godfather</td>\n",
       "    </tr>\n",
       "    <tr>\n",
       "      <th>3</th>\n",
       "      <td>Schindler's List</td>\n",
       "    </tr>\n",
       "    <tr>\n",
       "      <th>4</th>\n",
       "      <td>The Godfather: Part II</td>\n",
       "    </tr>\n",
       "    <tr>\n",
       "      <th>...</th>\n",
       "      <td>...</td>\n",
       "    </tr>\n",
       "    <tr>\n",
       "      <th>9995</th>\n",
       "      <td>The Last Airbender</td>\n",
       "    </tr>\n",
       "    <tr>\n",
       "      <th>9996</th>\n",
       "      <td>Sharknado 3: Oh Hell No!</td>\n",
       "    </tr>\n",
       "    <tr>\n",
       "      <th>9997</th>\n",
       "      <td>Captain America</td>\n",
       "    </tr>\n",
       "    <tr>\n",
       "      <th>9998</th>\n",
       "      <td>In the Name of the King: A Dungeon Siege Tale</td>\n",
       "    </tr>\n",
       "    <tr>\n",
       "      <th>9999</th>\n",
       "      <td>Domino</td>\n",
       "    </tr>\n",
       "  </tbody>\n",
       "</table>\n",
       "<p>10000 rows × 1 columns</p>\n",
       "</div>"
      ],
      "text/plain": [
       "                                              title\n",
       "0                          The Shawshank Redemption\n",
       "1                       Dilwale Dulhania Le Jayenge\n",
       "2                                     The Godfather\n",
       "3                                  Schindler's List\n",
       "4                            The Godfather: Part II\n",
       "...                                             ...\n",
       "9995                             The Last Airbender\n",
       "9996                       Sharknado 3: Oh Hell No!\n",
       "9997                                Captain America\n",
       "9998  In the Name of the King: A Dungeon Siege Tale\n",
       "9999                                         Domino\n",
       "\n",
       "[10000 rows x 1 columns]"
      ]
     },
     "execution_count": 12,
     "metadata": {},
     "output_type": "execute_result"
    }
   ],
   "source": [
    "titles = pd.read_csv(\"extracted_column.csv\")\n",
    "titles"
   ]
  },
  {
   "cell_type": "code",
   "execution_count": 18,
   "id": "4772157c",
   "metadata": {},
   "outputs": [],
   "source": [
    "def generate_dart_list(output_file, column_values):\n",
    "    # Write Dart code for the list\n",
    "    with open(output_file, 'w', encoding='utf-8') as f:\n",
    "        f.write('List<String> columnValues = [\\n')\n",
    "        for value in column_values:\n",
    "            f.write(f'  \"{value}\",\\n')\n",
    "        f.write('];')\n",
    "\n",
    "# Example usage:\n",
    "extracted_column_file = 'extracted_column.csv'\n",
    "dart_output_file = 'column_values.dart'\n",
    "\n",
    "# Read the extracted column from the CSV file\n",
    "with open(extracted_column_file, 'r', encoding='utf-8') as f:\n",
    "    column_values = [line.strip() for line in f]\n",
    "# Generate Dart code for the list\n",
    "generate_dart_list(dart_output_file, column_values)\n"
   ]
  },
  {
   "cell_type": "code",
   "execution_count": null,
   "id": "a77bc255",
   "metadata": {},
   "outputs": [],
   "source": []
  }
 ],
 "metadata": {
  "kernelspec": {
   "display_name": "Python 3 (ipykernel)",
   "language": "python",
   "name": "python3"
  },
  "language_info": {
   "codemirror_mode": {
    "name": "ipython",
    "version": 3
   },
   "file_extension": ".py",
   "mimetype": "text/x-python",
   "name": "python",
   "nbconvert_exporter": "python",
   "pygments_lexer": "ipython3",
   "version": "3.11.4"
  }
 },
 "nbformat": 4,
 "nbformat_minor": 5
}
